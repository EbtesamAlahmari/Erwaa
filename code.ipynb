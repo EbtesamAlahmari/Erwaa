{
  "cells": [
    {
      "cell_type": "markdown",
      "metadata": {
        "id": "view-in-github",
        "colab_type": "text"
      },
      "source": [
        "<a href=\"https://colab.research.google.com/github/EbtesamAlahmari/Erwaa/blob/main/code.ipynb\" target=\"_parent\"><img src=\"https://colab.research.google.com/assets/colab-badge.svg\" alt=\"Open In Colab\"/></a>"
      ]
    },
    {
      "cell_type": "code",
      "execution_count": null,
      "metadata": {
        "colab": {
          "background_save": true
        },
        "id": "q3XcCROzBi4s",
        "outputId": "16630348-7b85-4218-f2eb-944995b280ae"
      },
      "outputs": [
        {
          "name": "stdout",
          "output_type": "stream",
          "text": [
            "Mean Squared Error: 1.5587729287460215\n",
            "Model Coefficients: [ 0.63732176 -0.0099912  -0.00553505 ... -0.36523352 -1.2574001\n",
            "  2.87696715]\n",
            "Model Intercept: 4.614151364811445\n",
            "Predicted: 1.62, Actual: 3.00\n",
            "Predicted: 3.28, Actual: 3.20\n",
            "Predicted: 2.58, Actual: 3.40\n",
            "Predicted: 2.86, Actual: 2.20\n",
            "Predicted: 3.38, Actual: 2.20\n"
          ]
        }
      ],
      "source": [
        "import pandas as pd\n",
        "from sklearn.model_selection import train_test_split\n",
        "from sklearn.linear_model import LinearRegression\n",
        "from sklearn.metrics import mean_squared_error\n",
        "\n",
        "# Load the Excel file to inspect the data\n",
        "file_path = 'tomato_crop_data.xlsx'\n",
        "data = pd.read_excel(file_path)\n",
        "\n",
        "# Prepare the data for the regression model\n",
        "# Drop the target variable and any unnecessary columns\n",
        "X = data.drop(columns=['Daily Water Requirement (liters/plant)', 'City'])\n",
        "y = data['Daily Water Requirement (liters/plant)']\n",
        "\n",
        "# Convert categorical variables to numerical format using one-hot encoding\n",
        "X_encoded = pd.get_dummies(X, drop_first=True)\n",
        "\n",
        "# Split the encoded data into training and testing sets\n",
        "X_train_encoded, X_test_encoded, y_train_encoded, y_test_encoded = train_test_split(X_encoded, y, test_size=0.2, random_state=42)\n",
        "\n",
        "# Initialize the Linear Regression model\n",
        "model = LinearRegression()\n",
        "\n",
        "# Train the model on the encoded training data\n",
        "model.fit(X_train_encoded, y_train_encoded)\n",
        "\n",
        "# Predict on the test data\n",
        "y_pred_encoded = model.predict(X_test_encoded)\n",
        "\n",
        "# Evaluate the model using Mean Squared Error\n",
        "mse_encoded = mean_squared_error(y_test_encoded, y_pred_encoded)\n",
        "\n",
        "# Print the evaluation results\n",
        "print(f\"Mean Squared Error: {mse_encoded}\")\n",
        "print(f\"Model Coefficients: {model.coef_}\")\n",
        "print(f\"Model Intercept: {model.intercept_}\")\n",
        "\n",
        "# Optionally, to see a few predictions\n",
        "for i in range(5):  # Show first 5 predictions\n",
        "    print(f\"Predicted: {y_pred_encoded[i]:.2f}, Actual: {y_test_encoded.iloc[i]:.2f}\")\n"
      ]
    },
    {
      "cell_type": "markdown",
      "metadata": {
        "id": "l6STF4fvrzi-"
      },
      "source": [
        "# New Section"
      ]
    },
    {
      "cell_type": "code",
      "execution_count": null,
      "metadata": {
        "colab": {
          "background_save": true
        },
        "id": "mtl2qGWGDR4R",
        "outputId": "eb5389f0-41c2-4e94-e80e-30b3087c3079"
      },
      "outputs": [
        {
          "name": "stdout",
          "output_type": "stream",
          "text": [
            "Mean Squared Error: 0.001063552827172827\n",
            "Predicted: 1.40, Actual: 1.40\n",
            "Predicted: 2.80, Actual: 2.80\n",
            "Predicted: 3.40, Actual: 3.40\n",
            "Predicted: 1.70, Actual: 1.70\n",
            "Predicted: 1.60, Actual: 1.60\n"
          ]
        }
      ],
      "source": [
        "import pandas as pd\n",
        "from sklearn.model_selection import train_test_split\n",
        "from sklearn.ensemble import RandomForestRegressor\n",
        "from sklearn.metrics import mean_squared_error\n",
        "from sklearn.preprocessing import StandardScaler\n",
        "from sklearn.pipeline import Pipeline\n",
        "from sklearn.compose import ColumnTransformer\n",
        "from sklearn.impute import SimpleImputer\n",
        "from sklearn.preprocessing import OneHotEncoder\n",
        "\n",
        "crop_data = pd.read_excel('tomato_crop_data.xlsx')\n",
        "weather_data = pd.read_excel('weather_data.xlsx')\n",
        "\n",
        "data = pd.merge(crop_data, weather_data, on='City', how='left')\n",
        "\n",
        "X = data.drop(columns=['Daily Water Requirement (liters/plant)', 'City'])\n",
        "y = data['Daily Water Requirement (liters/plant)']\n",
        "\n",
        "numerical_features = X.select_dtypes(include=['int64', 'float64']).columns\n",
        "categorical_features = X.select_dtypes(include=['object']).columns\n",
        "\n",
        "numerical_transformer = Pipeline(steps=[\n",
        "    ('imputer', SimpleImputer(strategy='mean')),\n",
        "    ('scaler', StandardScaler())\n",
        "])\n",
        "\n",
        "categorical_transformer = Pipeline(steps=[\n",
        "    ('imputer', SimpleImputer(strategy='most_frequent')),\n",
        "    ('onehot', OneHotEncoder(handle_unknown='ignore'))\n",
        "])\n",
        "\n",
        "preprocessor = ColumnTransformer(\n",
        "    transformers=[\n",
        "        ('num', numerical_transformer, numerical_features),\n",
        "        ('cat', categorical_transformer, categorical_features)\n",
        "    ])\n",
        "\n",
        "model_pipeline = Pipeline(steps=[\n",
        "    ('preprocessor', preprocessor),\n",
        "    ('model', RandomForestRegressor(n_estimators=100, random_state=42))\n",
        "])\n",
        "\n",
        "X_train, X_test, y_train, y_test = train_test_split(X, y, test_size=0.2, random_state=42)\n",
        "\n",
        "model_pipeline.fit(X_train, y_train)\n",
        "\n",
        "y_pred = model_pipeline.predict(X_test)\n",
        "\n",
        "mse = mean_squared_error(y_test, y_pred)\n",
        "\n",
        "print(f\"Mean Squared Error: {mse}\")\n",
        "\n",
        "for i in range(5):\n",
        "    print(f\"Predicted: {y_pred[i]:.2f}, Actual: {y_test.iloc[i]:.2f}\")\n"
      ]
    }
  ],
  "metadata": {
    "colab": {
      "provenance": [],
      "authorship_tag": "ABX9TyNyAaapPD8rtcvZmrDuo25E",
      "include_colab_link": true
    },
    "kernelspec": {
      "display_name": "Python 3",
      "name": "python3"
    },
    "language_info": {
      "name": "python"
    }
  },
  "nbformat": 4,
  "nbformat_minor": 0
}